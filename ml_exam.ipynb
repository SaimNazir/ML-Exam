{
 "cells": [
  {
   "cell_type": "markdown",
   "metadata": {},
   "source": [
    "## Packages"
   ]
  },
  {
   "cell_type": "code",
   "execution_count": 9,
   "metadata": {},
   "outputs": [],
   "source": [
    "import pandas                   as pd\n",
    "import numpy                    as np\n",
    "import matplotlib.pyplot        as plt\n",
    "import lightgbm                 as lgb\n",
    "import xgboost                  as xgb\n",
    "import shap\n",
    "\n",
    "from imblearn.under_sampling    import RandomUnderSampler\n",
    "from imblearn.over_sampling     import RandomOverSampler\n",
    "\n",
    "from sklearn.model_selection    import RandomizedSearchCV, train_test_split, cross_val_score, learning_curve\n",
    "from sklearn.pipeline           import Pipeline\n",
    "from sklearn.impute             import SimpleImputer\n",
    "from sklearn.preprocessing      import StandardScaler, OrdinalEncoder, OneHotEncoder\n",
    "from sklearn.compose            import ColumnTransformer\n",
    "from sklearn.metrics            import classification_report, precision_recall_curve, recall_score, precision_score, f1_score, auc, roc_curve, plot_confusion_matrix\n",
    "\n",
    "\n",
    "from sklearn.decomposition      import TruncatedSVD\n",
    "from sklearn.calibration        import CalibratedClassifierCV\n",
    "from sklearn.feature_selection  import RFECV\n",
    "from scipy.stats                import ks_2samp\n",
    "\n",
    "from sklearn.svm                import SVC, LinearSVC\n",
    "from sklearn.neighbors          import KNeighborsClassifier, NearestCentroid\n",
    "from sklearn.tree               import DecisionTreeClassifier\n",
    "from sklearn.linear_model       import RidgeClassifier, RidgeClassifierCV, SGDClassifier, LogisticRegressionCV, PassiveAggressiveClassifier, LogisticRegression, Perceptron\n",
    "from sklearn.gaussian_process   import GaussianProcessClassifier\n",
    "from sklearn.ensemble           import AdaBoostClassifier, GradientBoostingClassifier, ExtraTreesClassifier, RandomForestClassifier\n",
    "from sklearn.naive_bayes        import BernoulliNB, GaussianNB\n",
    "from sklearn.discriminant_analysis import LinearDiscriminantAnalysis, QuadraticDiscriminantAnalysis"
   ]
  },
  {
   "cell_type": "markdown",
   "metadata": {},
   "source": [
    "## Plotting style and colors"
   ]
  },
  {
   "cell_type": "code",
   "execution_count": 10,
   "metadata": {},
   "outputs": [],
   "source": [
    "plt.style.reload_library()\n",
    "plt.rcParams['font.size'] = 18 \n",
    "plt.style.use(['science', 'notebook', 'grid'])\n",
    "\n",
    "blue = '#1f77b4'\n",
    "golden = '#ff7f0e'\n",
    "green = '#2ca02c'\n",
    "red = '#d62728'\n",
    "light_blue = '#17becf'"
   ]
  },
  {
   "cell_type": "markdown",
   "metadata": {},
   "source": [
    "## EDA"
   ]
  },
  {
   "cell_type": "code",
   "execution_count": 11,
   "metadata": {},
   "outputs": [
    {
     "name": "stderr",
     "output_type": "stream",
     "text": [
      "Columns (22) have mixed types. Specify dtype option on import or set low_memory=False.\n"
     ]
    },
    {
     "data": {
      "text/html": [
       "<div>\n",
       "<style scoped>\n",
       "    .dataframe tbody tr th:only-of-type {\n",
       "        vertical-align: middle;\n",
       "    }\n",
       "\n",
       "    .dataframe tbody tr th {\n",
       "        vertical-align: top;\n",
       "    }\n",
       "\n",
       "    .dataframe thead th {\n",
       "        text-align: right;\n",
       "    }\n",
       "</style>\n",
       "<table border=\"1\" class=\"dataframe\">\n",
       "  <thead>\n",
       "    <tr style=\"text-align: right;\">\n",
       "      <th></th>\n",
       "      <th>BatchGroup</th>\n",
       "      <th>Server</th>\n",
       "      <th>Customer</th>\n",
       "      <th>PrimaryModule</th>\n",
       "      <th>AttachmentUri</th>\n",
       "      <th>Version</th>\n",
       "      <th>ServiceType</th>\n",
       "      <th>SecondaryModule</th>\n",
       "      <th>OSVersion</th>\n",
       "      <th>BatchJob</th>\n",
       "      <th>...</th>\n",
       "      <th>RunningCitrix</th>\n",
       "      <th>InstallationType</th>\n",
       "      <th>Subject</th>\n",
       "      <th>BuildId</th>\n",
       "      <th>PatchLevel</th>\n",
       "      <th>SecondaryFunction</th>\n",
       "      <th>XmlUri</th>\n",
       "      <th>ErrorNumber</th>\n",
       "      <th>Track</th>\n",
       "      <th>is_defect</th>\n",
       "    </tr>\n",
       "  </thead>\n",
       "  <tbody>\n",
       "    <tr>\n",
       "      <th>0</th>\n",
       "      <td>NaN</td>\n",
       "      <td>NaN</td>\n",
       "      <td>GJEN</td>\n",
       "      <td>NaN</td>\n",
       "      <td>NaN</td>\n",
       "      <td>21.04</td>\n",
       "      <td>NaN</td>\n",
       "      <td>NaN</td>\n",
       "      <td>Microsoft Windows NT 6.3.9600.0</td>\n",
       "      <td>NaN</td>\n",
       "      <td>...</td>\n",
       "      <td>Yes</td>\n",
       "      <td>Production</td>\n",
       "      <td>Invalid global rule assignment(s) - Show Expir...</td>\n",
       "      <td>21.04-SP0-IMPL-20210824-1</td>\n",
       "      <td>NaN</td>\n",
       "      <td>NaN</td>\n",
       "      <td>https://errorlogsprod.blob.core.windows.net/xm...</td>\n",
       "      <td>36518.0</td>\n",
       "      <td>IMPL</td>\n",
       "      <td>False</td>\n",
       "    </tr>\n",
       "    <tr>\n",
       "      <th>1</th>\n",
       "      <td>NaN</td>\n",
       "      <td>BATCH01</td>\n",
       "      <td>CNP</td>\n",
       "      <td>0.0</td>\n",
       "      <td>NaN</td>\n",
       "      <td>22.01</td>\n",
       "      <td>NaN</td>\n",
       "      <td>0.0</td>\n",
       "      <td>Windows 10 10.0.14393</td>\n",
       "      <td>NaN</td>\n",
       "      <td>...</td>\n",
       "      <td>No</td>\n",
       "      <td>Non-Production</td>\n",
       "      <td>Database error (SELECT BATCHQUEUE.BATCHQUEUEIK...</td>\n",
       "      <td>22.01-SP0-IMPL-20220119-1</td>\n",
       "      <td>NaN</td>\n",
       "      <td>dbContResolve</td>\n",
       "      <td>https://errorlogsprod.blob.core.windows.net/xm...</td>\n",
       "      <td>0.0</td>\n",
       "      <td>IMPL</td>\n",
       "      <td>False</td>\n",
       "    </tr>\n",
       "    <tr>\n",
       "      <th>2</th>\n",
       "      <td>NaN</td>\n",
       "      <td>NaN</td>\n",
       "      <td>SWIB</td>\n",
       "      <td>4764.0</td>\n",
       "      <td>NaN</td>\n",
       "      <td>21.04</td>\n",
       "      <td>NaN</td>\n",
       "      <td>147.0</td>\n",
       "      <td>Windows 10 10.0.14393</td>\n",
       "      <td>NaN</td>\n",
       "      <td>...</td>\n",
       "      <td>Yes</td>\n",
       "      <td>Non-Production</td>\n",
       "      <td>Database error (INSERT INTO CACHOICES(BALNOMVA...</td>\n",
       "      <td>21.04-SP0-IMPL-20210702-1</td>\n",
       "      <td>NaN</td>\n",
       "      <td>dbContResolve</td>\n",
       "      <td>https://errorlogsprod.blob.core.windows.net/xm...</td>\n",
       "      <td>1506.0</td>\n",
       "      <td>IMPL</td>\n",
       "      <td>True</td>\n",
       "    </tr>\n",
       "    <tr>\n",
       "      <th>3</th>\n",
       "      <td>NaN</td>\n",
       "      <td>NaN</td>\n",
       "      <td>NORD</td>\n",
       "      <td>NaN</td>\n",
       "      <td>NaN</td>\n",
       "      <td>21.04</td>\n",
       "      <td>NaN</td>\n",
       "      <td>NaN</td>\n",
       "      <td>Microsoft Windows NT 10.0.14393.0</td>\n",
       "      <td>NaN</td>\n",
       "      <td>...</td>\n",
       "      <td>Yes</td>\n",
       "      <td>Production</td>\n",
       "      <td>Invalid global rule assignment(s) - Show Expir...</td>\n",
       "      <td>21.04-SP0-IMPL-20220106-1</td>\n",
       "      <td>NaN</td>\n",
       "      <td>NaN</td>\n",
       "      <td>https://errorlogsprod.blob.core.windows.net/xm...</td>\n",
       "      <td>477559.0</td>\n",
       "      <td>IMPL</td>\n",
       "      <td>False</td>\n",
       "    </tr>\n",
       "    <tr>\n",
       "      <th>4</th>\n",
       "      <td>NaN</td>\n",
       "      <td>NaN</td>\n",
       "      <td>TDK2</td>\n",
       "      <td>NaN</td>\n",
       "      <td>NaN</td>\n",
       "      <td>22.04</td>\n",
       "      <td>Compliance post-trade service</td>\n",
       "      <td>NaN</td>\n",
       "      <td>Microsoft Windows NT 6.2.9200.0</td>\n",
       "      <td>NaN</td>\n",
       "      <td>...</td>\n",
       "      <td>No</td>\n",
       "      <td>Internal</td>\n",
       "      <td>External component has thrown an exception.</td>\n",
       "      <td>22.04-SP0-IMPL-20220415-1</td>\n",
       "      <td>180,(185-187),(191-192),(211-212),214,(216-226)</td>\n",
       "      <td>NaN</td>\n",
       "      <td>https://errorlogsprod.blob.core.windows.net/xm...</td>\n",
       "      <td>286488.0</td>\n",
       "      <td>IMPL</td>\n",
       "      <td>False</td>\n",
       "    </tr>\n",
       "  </tbody>\n",
       "</table>\n",
       "<p>5 rows × 48 columns</p>\n",
       "</div>"
      ],
      "text/plain": [
       "  BatchGroup   Server Customer  PrimaryModule AttachmentUri Version  \\\n",
       "0        NaN      NaN     GJEN            NaN           NaN   21.04   \n",
       "1        NaN  BATCH01      CNP            0.0           NaN   22.01   \n",
       "2        NaN      NaN     SWIB         4764.0           NaN   21.04   \n",
       "3        NaN      NaN     NORD            NaN           NaN   21.04   \n",
       "4        NaN      NaN     TDK2            NaN           NaN   22.04   \n",
       "\n",
       "                     ServiceType  SecondaryModule  \\\n",
       "0                            NaN              NaN   \n",
       "1                            NaN              0.0   \n",
       "2                            NaN            147.0   \n",
       "3                            NaN              NaN   \n",
       "4  Compliance post-trade service              NaN   \n",
       "\n",
       "                           OSVersion BatchJob  ... RunningCitrix  \\\n",
       "0    Microsoft Windows NT 6.3.9600.0      NaN  ...           Yes   \n",
       "1              Windows 10 10.0.14393      NaN  ...            No   \n",
       "2              Windows 10 10.0.14393      NaN  ...           Yes   \n",
       "3  Microsoft Windows NT 10.0.14393.0      NaN  ...           Yes   \n",
       "4    Microsoft Windows NT 6.2.9200.0      NaN  ...            No   \n",
       "\n",
       "  InstallationType                                            Subject  \\\n",
       "0       Production  Invalid global rule assignment(s) - Show Expir...   \n",
       "1   Non-Production  Database error (SELECT BATCHQUEUE.BATCHQUEUEIK...   \n",
       "2   Non-Production  Database error (INSERT INTO CACHOICES(BALNOMVA...   \n",
       "3       Production  Invalid global rule assignment(s) - Show Expir...   \n",
       "4         Internal        External component has thrown an exception.   \n",
       "\n",
       "                     BuildId                                       PatchLevel  \\\n",
       "0  21.04-SP0-IMPL-20210824-1                                              NaN   \n",
       "1  22.01-SP0-IMPL-20220119-1                                              NaN   \n",
       "2  21.04-SP0-IMPL-20210702-1                                              NaN   \n",
       "3  21.04-SP0-IMPL-20220106-1                                              NaN   \n",
       "4  22.04-SP0-IMPL-20220415-1  180,(185-187),(191-192),(211-212),214,(216-226)   \n",
       "\n",
       "  SecondaryFunction                                             XmlUri  \\\n",
       "0               NaN  https://errorlogsprod.blob.core.windows.net/xm...   \n",
       "1     dbContResolve  https://errorlogsprod.blob.core.windows.net/xm...   \n",
       "2     dbContResolve  https://errorlogsprod.blob.core.windows.net/xm...   \n",
       "3               NaN  https://errorlogsprod.blob.core.windows.net/xm...   \n",
       "4               NaN  https://errorlogsprod.blob.core.windows.net/xm...   \n",
       "\n",
       "  ErrorNumber Track is_defect  \n",
       "0     36518.0  IMPL     False  \n",
       "1         0.0  IMPL     False  \n",
       "2      1506.0  IMPL      True  \n",
       "3    477559.0  IMPL     False  \n",
       "4    286488.0  IMPL     False  \n",
       "\n",
       "[5 rows x 48 columns]"
      ]
     },
     "execution_count": 11,
     "metadata": {},
     "output_type": "execute_result"
    }
   ],
   "source": [
    "df = pd.read_csv(\"/home/saim/Desktop/abor\", sep='\\t')\n",
    "df.head()"
   ]
  },
  {
   "cell_type": "code",
   "execution_count": 4,
   "metadata": {},
   "outputs": [
    {
     "name": "stdout",
     "output_type": "stream",
     "text": [
      "(64824, 48)\n"
     ]
    }
   ],
   "source": [
    "print(df.shape)"
   ]
  },
  {
   "cell_type": "code",
   "execution_count": 6,
   "metadata": {},
   "outputs": [
    {
     "data": {
      "text/html": [
       "<div>\n",
       "<style scoped>\n",
       "    .dataframe tbody tr th:only-of-type {\n",
       "        vertical-align: middle;\n",
       "    }\n",
       "\n",
       "    .dataframe tbody tr th {\n",
       "        vertical-align: top;\n",
       "    }\n",
       "\n",
       "    .dataframe thead th {\n",
       "        text-align: right;\n",
       "    }\n",
       "</style>\n",
       "<table border=\"1\" class=\"dataframe\">\n",
       "  <thead>\n",
       "    <tr style=\"text-align: right;\">\n",
       "      <th></th>\n",
       "      <th>Sample</th>\n",
       "      <th>Count uniques</th>\n",
       "      <th>dtype</th>\n",
       "      <th>Count missing</th>\n",
       "      <th>Pct. missing</th>\n",
       "    </tr>\n",
       "  </thead>\n",
       "  <tbody>\n",
       "    <tr>\n",
       "      <th>ServiceType</th>\n",
       "      <td>nan</td>\n",
       "      <td>104</td>\n",
       "      <td>object</td>\n",
       "      <td>60282</td>\n",
       "      <td>93.0</td>\n",
       "    </tr>\n",
       "    <tr>\n",
       "      <th>BatchJob</th>\n",
       "      <td>nan</td>\n",
       "      <td>4785</td>\n",
       "      <td>object</td>\n",
       "      <td>57716</td>\n",
       "      <td>89.0</td>\n",
       "    </tr>\n",
       "    <tr>\n",
       "      <th>BatchGroup</th>\n",
       "      <td>nan</td>\n",
       "      <td>2828</td>\n",
       "      <td>object</td>\n",
       "      <td>57461</td>\n",
       "      <td>88.6</td>\n",
       "    </tr>\n",
       "    <tr>\n",
       "      <th>PatchLevel</th>\n",
       "      <td>nan</td>\n",
       "      <td>955</td>\n",
       "      <td>object</td>\n",
       "      <td>53330</td>\n",
       "      <td>82.3</td>\n",
       "    </tr>\n",
       "    <tr>\n",
       "      <th>AttachmentUri</th>\n",
       "      <td>nan</td>\n",
       "      <td>11991</td>\n",
       "      <td>object</td>\n",
       "      <td>52833</td>\n",
       "      <td>81.5</td>\n",
       "    </tr>\n",
       "    <tr>\n",
       "      <th>StacktraceClass</th>\n",
       "      <td>nan</td>\n",
       "      <td>1748</td>\n",
       "      <td>object</td>\n",
       "      <td>52501</td>\n",
       "      <td>81.0</td>\n",
       "    </tr>\n",
       "    <tr>\n",
       "      <th>StacktraceNamespace</th>\n",
       "      <td>nan</td>\n",
       "      <td>764</td>\n",
       "      <td>object</td>\n",
       "      <td>52501</td>\n",
       "      <td>81.0</td>\n",
       "    </tr>\n",
       "    <tr>\n",
       "      <th>StacktraceMethod</th>\n",
       "      <td>nan</td>\n",
       "      <td>2620</td>\n",
       "      <td>object</td>\n",
       "      <td>52501</td>\n",
       "      <td>81.0</td>\n",
       "    </tr>\n",
       "    <tr>\n",
       "      <th>StacktraceLine</th>\n",
       "      <td>nan</td>\n",
       "      <td>2272</td>\n",
       "      <td>object</td>\n",
       "      <td>52501</td>\n",
       "      <td>81.0</td>\n",
       "    </tr>\n",
       "    <tr>\n",
       "      <th>Server</th>\n",
       "      <td>nan</td>\n",
       "      <td>9658</td>\n",
       "      <td>object</td>\n",
       "      <td>43799</td>\n",
       "      <td>67.6</td>\n",
       "    </tr>\n",
       "    <tr>\n",
       "      <th>Ora</th>\n",
       "      <td>nan</td>\n",
       "      <td>163</td>\n",
       "      <td>object</td>\n",
       "      <td>41603</td>\n",
       "      <td>64.2</td>\n",
       "    </tr>\n",
       "    <tr>\n",
       "      <th>SubMessageType</th>\n",
       "      <td>SCD</td>\n",
       "      <td>2</td>\n",
       "      <td>object</td>\n",
       "      <td>39780</td>\n",
       "      <td>61.4</td>\n",
       "    </tr>\n",
       "    <tr>\n",
       "      <th>StackTrace</th>\n",
       "      <td>Invalid global rule assignment</td>\n",
       "      <td>25044</td>\n",
       "      <td>object</td>\n",
       "      <td>39780</td>\n",
       "      <td>61.4</td>\n",
       "    </tr>\n",
       "    <tr>\n",
       "      <th>ProcessType</th>\n",
       "      <td>nan</td>\n",
       "      <td>5</td>\n",
       "      <td>object</td>\n",
       "      <td>32906</td>\n",
       "      <td>50.8</td>\n",
       "    </tr>\n",
       "    <tr>\n",
       "      <th>RootCause</th>\n",
       "      <td>nan</td>\n",
       "      <td>26</td>\n",
       "      <td>object</td>\n",
       "      <td>28625</td>\n",
       "      <td>44.2</td>\n",
       "    </tr>\n",
       "    <tr>\n",
       "      <th>SecondaryFunction</th>\n",
       "      <td>nan</td>\n",
       "      <td>1410</td>\n",
       "      <td>object</td>\n",
       "      <td>25056</td>\n",
       "      <td>38.7</td>\n",
       "    </tr>\n",
       "    <tr>\n",
       "      <th>PrimaryFunction</th>\n",
       "      <td>nan</td>\n",
       "      <td>4093</td>\n",
       "      <td>object</td>\n",
       "      <td>25056</td>\n",
       "      <td>38.7</td>\n",
       "    </tr>\n",
       "    <tr>\n",
       "      <th>ApplicationId</th>\n",
       "      <td>nan</td>\n",
       "      <td>185</td>\n",
       "      <td>float64</td>\n",
       "      <td>25044</td>\n",
       "      <td>38.6</td>\n",
       "    </tr>\n",
       "    <tr>\n",
       "      <th>MenuId</th>\n",
       "      <td>nan</td>\n",
       "      <td>818</td>\n",
       "      <td>object</td>\n",
       "      <td>25044</td>\n",
       "      <td>38.6</td>\n",
       "    </tr>\n",
       "    <tr>\n",
       "      <th>ProcessorCount</th>\n",
       "      <td>nan</td>\n",
       "      <td>28</td>\n",
       "      <td>float64</td>\n",
       "      <td>25044</td>\n",
       "      <td>38.6</td>\n",
       "    </tr>\n",
       "    <tr>\n",
       "      <th>PrimaryModule</th>\n",
       "      <td>nan</td>\n",
       "      <td>1163</td>\n",
       "      <td>float64</td>\n",
       "      <td>25044</td>\n",
       "      <td>38.6</td>\n",
       "    </tr>\n",
       "    <tr>\n",
       "      <th>SecondaryModule</th>\n",
       "      <td>nan</td>\n",
       "      <td>695</td>\n",
       "      <td>float64</td>\n",
       "      <td>25044</td>\n",
       "      <td>38.6</td>\n",
       "    </tr>\n",
       "    <tr>\n",
       "      <th>InstallationType</th>\n",
       "      <td>Production</td>\n",
       "      <td>3</td>\n",
       "      <td>object</td>\n",
       "      <td>3581</td>\n",
       "      <td>5.5</td>\n",
       "    </tr>\n",
       "    <tr>\n",
       "      <th>Track</th>\n",
       "      <td>IMPL</td>\n",
       "      <td>2</td>\n",
       "      <td>object</td>\n",
       "      <td>3580</td>\n",
       "      <td>5.5</td>\n",
       "    </tr>\n",
       "    <tr>\n",
       "      <th>ServicePack</th>\n",
       "      <td>SP0</td>\n",
       "      <td>2</td>\n",
       "      <td>object</td>\n",
       "      <td>3580</td>\n",
       "      <td>5.5</td>\n",
       "    </tr>\n",
       "    <tr>\n",
       "      <th>WorkspaceSize</th>\n",
       "      <td>2516582400.0</td>\n",
       "      <td>136</td>\n",
       "      <td>float64</td>\n",
       "      <td>2699</td>\n",
       "      <td>4.2</td>\n",
       "    </tr>\n",
       "    <tr>\n",
       "      <th>User</th>\n",
       "      <td>AB58859</td>\n",
       "      <td>6389</td>\n",
       "      <td>object</td>\n",
       "      <td>756</td>\n",
       "      <td>1.2</td>\n",
       "    </tr>\n",
       "    <tr>\n",
       "      <th>ErrorNumber</th>\n",
       "      <td>36518.0</td>\n",
       "      <td>23647</td>\n",
       "      <td>float64</td>\n",
       "      <td>185</td>\n",
       "      <td>0.3</td>\n",
       "    </tr>\n",
       "    <tr>\n",
       "      <th>OSUser</th>\n",
       "      <td>AB58859</td>\n",
       "      <td>6548</td>\n",
       "      <td>object</td>\n",
       "      <td>13</td>\n",
       "      <td>0.0</td>\n",
       "    </tr>\n",
       "    <tr>\n",
       "      <th>Subject</th>\n",
       "      <td>Invalid global rule assignment</td>\n",
       "      <td>15393</td>\n",
       "      <td>object</td>\n",
       "      <td>7</td>\n",
       "      <td>0.0</td>\n",
       "    </tr>\n",
       "    <tr>\n",
       "      <th>RunningCitrix</th>\n",
       "      <td>Yes</td>\n",
       "      <td>2</td>\n",
       "      <td>object</td>\n",
       "      <td>6</td>\n",
       "      <td>0.0</td>\n",
       "    </tr>\n",
       "    <tr>\n",
       "      <th>ProgrammersMode</th>\n",
       "      <td>No</td>\n",
       "      <td>2</td>\n",
       "      <td>object</td>\n",
       "      <td>6</td>\n",
       "      <td>0.0</td>\n",
       "    </tr>\n",
       "    <tr>\n",
       "      <th>BuildId</th>\n",
       "      <td>21.04-SP0-IMPL-20210824-1</td>\n",
       "      <td>2164</td>\n",
       "      <td>object</td>\n",
       "      <td>2</td>\n",
       "      <td>0.0</td>\n",
       "    </tr>\n",
       "    <tr>\n",
       "      <th>RCReference</th>\n",
       "      <td>cefa79a7-f18c-4f32-9015-1643db</td>\n",
       "      <td>64824</td>\n",
       "      <td>object</td>\n",
       "      <td>0</td>\n",
       "      <td>0.0</td>\n",
       "    </tr>\n",
       "    <tr>\n",
       "      <th>Customer</th>\n",
       "      <td>GJEN</td>\n",
       "      <td>140</td>\n",
       "      <td>object</td>\n",
       "      <td>0</td>\n",
       "      <td>0.0</td>\n",
       "    </tr>\n",
       "    <tr>\n",
       "      <th>XmlUri</th>\n",
       "      <td>https://errorlogsprod.blob.cor</td>\n",
       "      <td>64824</td>\n",
       "      <td>object</td>\n",
       "      <td>0</td>\n",
       "      <td>0.0</td>\n",
       "    </tr>\n",
       "    <tr>\n",
       "      <th>UTCImported</th>\n",
       "      <td>2021-10-12T07:41:17Z</td>\n",
       "      <td>56440</td>\n",
       "      <td>object</td>\n",
       "      <td>0</td>\n",
       "      <td>0.0</td>\n",
       "    </tr>\n",
       "    <tr>\n",
       "      <th>Source</th>\n",
       "      <td>SimCorp.IMS.Framework.Logging.</td>\n",
       "      <td>3</td>\n",
       "      <td>object</td>\n",
       "      <td>0</td>\n",
       "      <td>0.0</td>\n",
       "    </tr>\n",
       "    <tr>\n",
       "      <th>Version</th>\n",
       "      <td>21.04</td>\n",
       "      <td>20</td>\n",
       "      <td>object</td>\n",
       "      <td>0</td>\n",
       "      <td>0.0</td>\n",
       "    </tr>\n",
       "    <tr>\n",
       "      <th>Machine</th>\n",
       "      <td>ASMWCTXAPP1000</td>\n",
       "      <td>7044</td>\n",
       "      <td>object</td>\n",
       "      <td>0</td>\n",
       "      <td>0.0</td>\n",
       "    </tr>\n",
       "    <tr>\n",
       "      <th>ResponsibleTeam</th>\n",
       "      <td>unassigned</td>\n",
       "      <td>29</td>\n",
       "      <td>object</td>\n",
       "      <td>0</td>\n",
       "      <td>0.0</td>\n",
       "    </tr>\n",
       "    <tr>\n",
       "      <th>CDataSection</th>\n",
       "      <td>Invalid global rule assignment</td>\n",
       "      <td>55618</td>\n",
       "      <td>object</td>\n",
       "      <td>0</td>\n",
       "      <td>0.0</td>\n",
       "    </tr>\n",
       "    <tr>\n",
       "      <th>OSVersion</th>\n",
       "      <td>Microsoft Windows NT 6.3.9600.</td>\n",
       "      <td>29</td>\n",
       "      <td>object</td>\n",
       "      <td>0</td>\n",
       "      <td>0.0</td>\n",
       "    </tr>\n",
       "    <tr>\n",
       "      <th>SessionStartTime</th>\n",
       "      <td>2021-10-12T08:35:35Z</td>\n",
       "      <td>50147</td>\n",
       "      <td>object</td>\n",
       "      <td>0</td>\n",
       "      <td>0.0</td>\n",
       "    </tr>\n",
       "    <tr>\n",
       "      <th>State</th>\n",
       "      <td>PROD</td>\n",
       "      <td>391</td>\n",
       "      <td>object</td>\n",
       "      <td>0</td>\n",
       "      <td>0.0</td>\n",
       "    </tr>\n",
       "    <tr>\n",
       "      <th>UTCLogDate</th>\n",
       "      <td>2021-10-12T07:40:44Z</td>\n",
       "      <td>59957</td>\n",
       "      <td>object</td>\n",
       "      <td>0</td>\n",
       "      <td>0.0</td>\n",
       "    </tr>\n",
       "    <tr>\n",
       "      <th>ModuleList</th>\n",
       "      <td>18.0.44178.0\\t12840960\\t\\\\hgbap0</td>\n",
       "      <td>53567</td>\n",
       "      <td>object</td>\n",
       "      <td>0</td>\n",
       "      <td>0.0</td>\n",
       "    </tr>\n",
       "    <tr>\n",
       "      <th>is_defect</th>\n",
       "      <td>False</td>\n",
       "      <td>2</td>\n",
       "      <td>bool</td>\n",
       "      <td>0</td>\n",
       "      <td>0.0</td>\n",
       "    </tr>\n",
       "  </tbody>\n",
       "</table>\n",
       "</div>"
      ],
      "text/plain": [
       "                                               Sample  Count uniques    dtype  \\\n",
       "ServiceType                                       nan            104   object   \n",
       "BatchJob                                          nan           4785   object   \n",
       "BatchGroup                                        nan           2828   object   \n",
       "PatchLevel                                        nan            955   object   \n",
       "AttachmentUri                                     nan          11991   object   \n",
       "StacktraceClass                                   nan           1748   object   \n",
       "StacktraceNamespace                               nan            764   object   \n",
       "StacktraceMethod                                  nan           2620   object   \n",
       "StacktraceLine                                    nan           2272   object   \n",
       "Server                                            nan           9658   object   \n",
       "Ora                                               nan            163   object   \n",
       "SubMessageType                                    SCD              2   object   \n",
       "StackTrace             Invalid global rule assignment          25044   object   \n",
       "ProcessType                                       nan              5   object   \n",
       "RootCause                                         nan             26   object   \n",
       "SecondaryFunction                                 nan           1410   object   \n",
       "PrimaryFunction                                   nan           4093   object   \n",
       "ApplicationId                                     nan            185  float64   \n",
       "MenuId                                            nan            818   object   \n",
       "ProcessorCount                                    nan             28  float64   \n",
       "PrimaryModule                                     nan           1163  float64   \n",
       "SecondaryModule                                   nan            695  float64   \n",
       "InstallationType                           Production              3   object   \n",
       "Track                                            IMPL              2   object   \n",
       "ServicePack                                       SP0              2   object   \n",
       "WorkspaceSize                            2516582400.0            136  float64   \n",
       "User                                          AB58859           6389   object   \n",
       "ErrorNumber                                   36518.0          23647  float64   \n",
       "OSUser                                        AB58859           6548   object   \n",
       "Subject                Invalid global rule assignment          15393   object   \n",
       "RunningCitrix                                     Yes              2   object   \n",
       "ProgrammersMode                                    No              2   object   \n",
       "BuildId                     21.04-SP0-IMPL-20210824-1           2164   object   \n",
       "RCReference            cefa79a7-f18c-4f32-9015-1643db          64824   object   \n",
       "Customer                                         GJEN            140   object   \n",
       "XmlUri                 https://errorlogsprod.blob.cor          64824   object   \n",
       "UTCImported                      2021-10-12T07:41:17Z          56440   object   \n",
       "Source                 SimCorp.IMS.Framework.Logging.              3   object   \n",
       "Version                                         21.04             20   object   \n",
       "Machine                                ASMWCTXAPP1000           7044   object   \n",
       "ResponsibleTeam                            unassigned             29   object   \n",
       "CDataSection           Invalid global rule assignment          55618   object   \n",
       "OSVersion              Microsoft Windows NT 6.3.9600.             29   object   \n",
       "SessionStartTime                 2021-10-12T08:35:35Z          50147   object   \n",
       "State                                            PROD            391   object   \n",
       "UTCLogDate                       2021-10-12T07:40:44Z          59957   object   \n",
       "ModuleList           18.0.44178.0\\t12840960\\t\\\\hgbap0          53567   object   \n",
       "is_defect                                       False              2     bool   \n",
       "\n",
       "                     Count missing  Pct. missing  \n",
       "ServiceType                  60282          93.0  \n",
       "BatchJob                     57716          89.0  \n",
       "BatchGroup                   57461          88.6  \n",
       "PatchLevel                   53330          82.3  \n",
       "AttachmentUri                52833          81.5  \n",
       "StacktraceClass              52501          81.0  \n",
       "StacktraceNamespace          52501          81.0  \n",
       "StacktraceMethod             52501          81.0  \n",
       "StacktraceLine               52501          81.0  \n",
       "Server                       43799          67.6  \n",
       "Ora                          41603          64.2  \n",
       "SubMessageType               39780          61.4  \n",
       "StackTrace                   39780          61.4  \n",
       "ProcessType                  32906          50.8  \n",
       "RootCause                    28625          44.2  \n",
       "SecondaryFunction            25056          38.7  \n",
       "PrimaryFunction              25056          38.7  \n",
       "ApplicationId                25044          38.6  \n",
       "MenuId                       25044          38.6  \n",
       "ProcessorCount               25044          38.6  \n",
       "PrimaryModule                25044          38.6  \n",
       "SecondaryModule              25044          38.6  \n",
       "InstallationType              3581           5.5  \n",
       "Track                         3580           5.5  \n",
       "ServicePack                   3580           5.5  \n",
       "WorkspaceSize                 2699           4.2  \n",
       "User                           756           1.2  \n",
       "ErrorNumber                    185           0.3  \n",
       "OSUser                          13           0.0  \n",
       "Subject                          7           0.0  \n",
       "RunningCitrix                    6           0.0  \n",
       "ProgrammersMode                  6           0.0  \n",
       "BuildId                          2           0.0  \n",
       "RCReference                      0           0.0  \n",
       "Customer                         0           0.0  \n",
       "XmlUri                           0           0.0  \n",
       "UTCImported                      0           0.0  \n",
       "Source                           0           0.0  \n",
       "Version                          0           0.0  \n",
       "Machine                          0           0.0  \n",
       "ResponsibleTeam                  0           0.0  \n",
       "CDataSection                     0           0.0  \n",
       "OSVersion                        0           0.0  \n",
       "SessionStartTime                 0           0.0  \n",
       "State                            0           0.0  \n",
       "UTCLogDate                       0           0.0  \n",
       "ModuleList                       0           0.0  \n",
       "is_defect                        0           0.0  "
      ]
     },
     "execution_count": 6,
     "metadata": {},
     "output_type": "execute_result"
    }
   ],
   "source": [
    "def Overview(df, sort_by_missing=True):\n",
    "    # Preliminary data overview\n",
    "    uniques = df.nunique()\n",
    "    dtypes = df.dtypes\n",
    "    total = df.isnull().sum().sort_values()\n",
    "    percent = (df.isnull().sum() / df.isnull().count()).sort_values() * 100\n",
    "\n",
    "    if len(df.dropna()) > 0:\n",
    "        sample = df.dropna().iloc[0].astype(str).apply(lambda x: x[:30])\n",
    "    else:\n",
    "        sample = df.iloc[0].astype(str).apply(lambda x: x[:30])\n",
    "\n",
    "    data_overview = [sample, uniques, dtypes, total, percent]\n",
    "    keys = [\"Sample\", \"Count uniques\", \"dtype\", \"Count missing\", \"Pct. missing\"]\n",
    "\n",
    "    overview_df = pd.concat(data_overview, keys=keys, axis=1, sort=False)\n",
    "    if sort_by_missing:\n",
    "        overview_df = overview_df.sort_values(by=\"Pct. missing\", ascending=False)\n",
    "    overview_df = overview_df.round(1)\n",
    "    return overview_df\n",
    "\n",
    "overview = Overview(df)\n",
    "overview"
   ]
  },
  {
   "cell_type": "code",
   "execution_count": 19,
   "metadata": {},
   "outputs": [
    {
     "name": "stdout",
     "output_type": "stream",
     "text": [
      "[60777  4047]\n"
     ]
    }
   ],
   "source": [
    "# Looking at value counts of target feature and the ratio of it\n",
    "class_array = np.array(df['is_defect'].value_counts())\n",
    "print(class_array)"
   ]
  },
  {
   "cell_type": "code",
   "execution_count": 21,
   "metadata": {},
   "outputs": [
    {
     "name": "stdout",
     "output_type": "stream",
     "text": [
      "Imbalance Ratio 0.067\n"
     ]
    }
   ],
   "source": [
    "print('Imbalance Ratio', round(class_array[1]/class_array[0], 3))"
   ]
  },
  {
   "cell_type": "code",
   "execution_count": 22,
   "metadata": {},
   "outputs": [
    {
     "data": {
      "text/plain": [
       "60777"
      ]
     },
     "execution_count": 22,
     "metadata": {},
     "output_type": "execute_result"
    }
   ],
   "source": [
    "class_array[0]"
   ]
  },
  {
   "cell_type": "code",
   "execution_count": 23,
   "metadata": {},
   "outputs": [
    {
     "data": {
      "image/png": "[encoded data removed]",
      "text/plain": [
       "<Figure size 720x504 with 1 Axes>"
      ]
     },
     "metadata": {
      "needs_background": "light"
     },
     "output_type": "display_data"
    }
   ],
   "source": [
    "# Plotting the classes\n",
    "objects = ('Non-defects', 'Defects')\n",
    "y_pos = np.arange(len(objects))\n",
    "performance = np.array([class_array[0], class_array[1],])\n",
    "\n",
    "\n",
    "fig, ax = plt.subplots(figsize=(10, 7))\n",
    "\n",
    "\n",
    "plt.bar(y_pos, performance, align='center', alpha= 0.8, color = blue)\n",
    "plt.xticks(y_pos, objects)\n",
    "\n",
    "ax.bar_label(ax.containers[0])\n",
    "\n",
    "\n",
    "plt.title('Non-defects vs Defects')\n",
    "plt.savefig(\"/home/saim/Desktop/class_imb.png\")\n",
    "\n",
    "fig.tight_layout()"
   ]
  },
  {
   "cell_type": "code",
   "execution_count": 7,
   "metadata": {},
   "outputs": [
    {
     "name": "stdout",
     "output_type": "stream",
     "text": [
      "['PrimaryModule', 'SecondaryModule', 'WorkspaceSize', 'ApplicationId', 'ProcessorCount', 'ErrorNumber'] 6 numerical variables\n",
      "['BatchGroup', 'Server', 'Customer', 'AttachmentUri', 'Version', 'ServiceType', 'OSVersion', 'BatchJob', 'SubMessageType', 'StackTrace', 'StacktraceMethod', 'SessionStartTime', 'State', 'RootCause', 'UTCImported', 'ServicePack', 'ModuleList', 'UTCLogDate', 'StacktraceLine', 'PrimaryFunction', 'Ora', 'StacktraceNamespace', 'User', 'CDataSection', 'StacktraceClass', 'ResponsibleTeam', 'OSUser', 'Source', 'Machine', 'ProcessType', 'MenuId', 'ProgrammersMode', 'RCReference', 'RunningCitrix', 'InstallationType', 'Subject', 'BuildId', 'PatchLevel', 'SecondaryFunction', 'XmlUri', 'Track', 'is_defect'] 42 non-numeric variables\n"
     ]
    }
   ],
   "source": [
    "num_variables = df.select_dtypes(include='number').columns.tolist()\n",
    "print(num_variables, len(num_variables), 'numerical variables')\n",
    "\n",
    "cat_variables = df.select_dtypes(exclude='number').columns.tolist()\n",
    "print(cat_variables, len(cat_variables), 'non-numeric variables')"
   ]
  },
  {
   "cell_type": "code",
   "execution_count": 11,
   "metadata": {},
   "outputs": [
    {
     "data": {
      "image/png": "[encoded data removed]",
      "text/plain": [
       "<Figure size 720x720 with 2 Axes>"
      ]
     },
     "metadata": {
      "needs_background": "light"
     },
     "output_type": "display_data"
    }
   ],
   "source": [
    "def heatmap(dataframe, h=10, w=10, cmap=\"coolwarm\", vmin=-1.0, vmax=1.0):\n",
    "    fig, ax = plt.subplots(figsize=(h, w))\n",
    "    sns.heatmap(\n",
    "        dataframe.corr(),\n",
    "        vmin=-1.0,\n",
    "        vmax=1.0,\n",
    "        center=0,\n",
    "        fmt=\".2f\",\n",
    "        cmap=cmap,\n",
    "        square=True,\n",
    "        linewidths=0.5,\n",
    "        annot=True,\n",
    "        cbar_kws={\"shrink\": 0.80},\n",
    "    )\n",
    "    plt.savefig(\"/home/saim/Desktop/corr_heat.png\")\n",
    "    plt.show()\n",
    "\n",
    "heatmap(df)"
   ]
  },
  {
   "cell_type": "code",
   "execution_count": 13,
   "metadata": {},
   "outputs": [
    {
     "data": {
      "text/plain": [
       "<bound method NDFrame.describe of       BatchGroup               Server Customer  PrimaryModule AttachmentUri  \\\n",
       "0            NaN                  NaN     GJEN            NaN           NaN   \n",
       "1            NaN              BATCH01      CNP            0.0           NaN   \n",
       "2            NaN                  NaN     SWIB         4764.0           NaN   \n",
       "3            NaN                  NaN     NORD            NaN           NaN   \n",
       "4            NaN                  NaN     TDK2            NaN           NaN   \n",
       "...          ...                  ...      ...            ...           ...   \n",
       "64819        NaN                  NaN      LUP            0.0           NaN   \n",
       "64820        NaN  UNGD01APP120\\214-15     UNIG            0.0           NaN   \n",
       "64821        NaN                  NaN     STOR            NaN           NaN   \n",
       "64822        NaN                  NaN    BCIMC            NaN           NaN   \n",
       "64823        NaN                  NaN     POHJ            NaN           NaN   \n",
       "\n",
       "      Version                    ServiceType  SecondaryModule  \\\n",
       "0       21.04                            NaN              NaN   \n",
       "1       22.01                            NaN              0.0   \n",
       "2       21.04                            NaN            147.0   \n",
       "3       21.04                            NaN              NaN   \n",
       "4       22.04  Compliance post-trade service              NaN   \n",
       "...       ...                            ...              ...   \n",
       "64819   20.04                            NaN              0.0   \n",
       "64820   20.10                            NaN              0.0   \n",
       "64821   21.04                            NaN              NaN   \n",
       "64822   20.07                            NaN              NaN   \n",
       "64823   21.07                            NaN              NaN   \n",
       "\n",
       "                               OSVersion BatchJob  ... RunningCitrix  \\\n",
       "0        Microsoft Windows NT 6.3.9600.0      NaN  ...           Yes   \n",
       "1                  Windows 10 10.0.14393      NaN  ...            No   \n",
       "2                  Windows 10 10.0.14393      NaN  ...           Yes   \n",
       "3      Microsoft Windows NT 10.0.14393.0      NaN  ...           Yes   \n",
       "4        Microsoft Windows NT 6.2.9200.0      NaN  ...            No   \n",
       "...                                  ...      ...  ...           ...   \n",
       "64819              Windows 10 10.0.17763      NaN  ...           Yes   \n",
       "64820              Windows 10 10.0.14393      NaN  ...            No   \n",
       "64821  Microsoft Windows NT 10.0.19043.0      NaN  ...           Yes   \n",
       "64822    Microsoft Windows NT 6.3.9600.0      NaN  ...           Yes   \n",
       "64823  Microsoft Windows NT 10.0.19042.0      NaN  ...            No   \n",
       "\n",
       "      InstallationType                                            Subject  \\\n",
       "0           Production  Invalid global rule assignment(s) - Show Expir...   \n",
       "1       Non-Production  Database error (SELECT BATCHQUEUE.BATCHQUEUEIK...   \n",
       "2       Non-Production  Database error (INSERT INTO CACHOICES(BALNOMVA...   \n",
       "3           Production  Invalid global rule assignment(s) - Show Expir...   \n",
       "4             Internal        External component has thrown an exception.   \n",
       "...                ...                                                ...   \n",
       "64819       Production  Database error (SELECT HOLKEYS.HOLKEYIK,HOLKEY...   \n",
       "64820   Non-Production  Database error (SELECT SYSSTATUS.PTRIK,SYSSTAT...   \n",
       "64821       Production  Exception of type 'System.OutOfMemoryException...   \n",
       "64822       Production  Attempted to read or write protected memory. T...   \n",
       "64823       Production  Invalid global rule assignment(s) - Show Expir...   \n",
       "\n",
       "                         BuildId  \\\n",
       "0      21.04-SP0-IMPL-20210824-1   \n",
       "1      22.01-SP0-IMPL-20220119-1   \n",
       "2      21.04-SP0-IMPL-20210702-1   \n",
       "3      21.04-SP0-IMPL-20220106-1   \n",
       "4      22.04-SP0-IMPL-20220415-1   \n",
       "...                          ...   \n",
       "64819  20.04-SP0-IMPL-20200817-1   \n",
       "64820  20.10-SP0-IMPL-20210628-1   \n",
       "64821  21.04-SP0-IMPL-20220128-1   \n",
       "64822  20.07-SP0-IMPL-20210209-1   \n",
       "64823  21.07-SP0-IMPL-20210909-1   \n",
       "\n",
       "                                            PatchLevel SecondaryFunction  \\\n",
       "0                                                  NaN               NaN   \n",
       "1                                                  NaN     dbContResolve   \n",
       "2                                                  NaN     dbContResolve   \n",
       "3                                                  NaN               NaN   \n",
       "4      180,(185-187),(191-192),(211-212),214,(216-226)               NaN   \n",
       "...                                                ...               ...   \n",
       "64819                                              NaN     dbContResolve   \n",
       "64820                                              NaN     dbContResolve   \n",
       "64821                                              NaN               NaN   \n",
       "64822                                              NaN               NaN   \n",
       "64823                                              NaN               NaN   \n",
       "\n",
       "                                                  XmlUri ErrorNumber Track  \\\n",
       "0      https://errorlogsprod.blob.core.windows.net/xm...     36518.0  IMPL   \n",
       "1      https://errorlogsprod.blob.core.windows.net/xm...         0.0  IMPL   \n",
       "2      https://errorlogsprod.blob.core.windows.net/xm...      1506.0  IMPL   \n",
       "3      https://errorlogsprod.blob.core.windows.net/xm...    477559.0  IMPL   \n",
       "4      https://errorlogsprod.blob.core.windows.net/xm...    286488.0  IMPL   \n",
       "...                                                  ...         ...   ...   \n",
       "64819  https://errorlogsprod.blob.core.windows.net/xm...         0.0  IMPL   \n",
       "64820  https://errorlogsprod.blob.core.windows.net/xm...         0.0  IMPL   \n",
       "64821  https://errorlogsprod.blob.core.windows.net/xm...     47702.0  IMPL   \n",
       "64822  https://errorlogsprod.blob.core.windows.net/xm...     15703.0  IMPL   \n",
       "64823  https://errorlogsprod.blob.core.windows.net/xm...    129647.0  IMPL   \n",
       "\n",
       "      is_defect  \n",
       "0         False  \n",
       "1         False  \n",
       "2          True  \n",
       "3         False  \n",
       "4         False  \n",
       "...         ...  \n",
       "64819     False  \n",
       "64820     False  \n",
       "64821     False  \n",
       "64822     False  \n",
       "64823     False  \n",
       "\n",
       "[64824 rows x 48 columns]>"
      ]
     },
     "execution_count": 13,
     "metadata": {},
     "output_type": "execute_result"
    }
   ],
   "source": [
    "df.describe"
   ]
  },
  {
   "cell_type": "code",
   "execution_count": 8,
   "metadata": {},
   "outputs": [
    {
     "name": "stdout",
     "output_type": "stream",
     "text": [
      "False\n",
      "KstestResult(statistic=0.38633839318770835, pvalue=0.0)\n"
     ]
    }
   ],
   "source": [
    "df_ks_test = df.copy()\n",
    "\n",
    "df_ks_test['PrimaryModule'].fillna(df_ks_test['PrimaryModule'].mean(), inplace = True)\n",
    "print(df_ks_test['PrimaryModule'].isnull().values.any())\n",
    "\n",
    "\n",
    "def df_to_np(df, col_name):\n",
    "    return np.array(df[col_name])\n",
    "\n",
    "# convert cols to np arrays to be used in ks-test\n",
    "PrimaryModule_array = df_to_np(df_ks_test, 'PrimaryModule')\n",
    "PrimaryModule_OG = df_to_np(df, 'PrimaryModule')\n",
    "\n",
    "print(ks_2samp(PrimaryModule_array, PrimaryModule_OG))"
   ]
  },
  {
   "cell_type": "code",
   "execution_count": 28,
   "metadata": {},
   "outputs": [],
   "source": [
    "def histogram(dataframe, col_name:str):\n",
    "\n",
    "       fig, ax = plt.subplots(nrows=1, ncols=1, figsize=(31, 10))\n",
    "\n",
    "       # Plot generated data\n",
    "       ax.hist(dataframe[col_name], \n",
    "              bins = 1000, \n",
    "              color = blue,\n",
    "              histtype = 'step', \n",
    "              )\n",
    "\n",
    "       ax.set(xlabel = \"Value\", \n",
    "              ylabel = \"Frequency\", \n",
    "              #title = \"\"\n",
    "       )\n",
    "\n",
    "\n",
    "       ax.set(xlabel = \"Value\", ylabel = \"Frequency\", title = \"\")\n",
    "       ax.legend(loc = 'upper left', fontsize = 16);\n",
    "\n",
    "\n",
    "       #plt.savefig(\"/home/saim/Desktop/name.png\")\n",
    "       fig.tight_layout()\n",
    "\n",
    "#histogram(df, 'ProcessorCount')"
   ]
  },
  {
   "cell_type": "markdown",
   "metadata": {},
   "source": [
    "## Data Cleaning"
   ]
  },
  {
   "cell_type": "code",
   "execution_count": 5,
   "metadata": {},
   "outputs": [
    {
     "name": "stdout",
     "output_type": "stream",
     "text": [
      "['MenuId', 'ProcessorCount', 'PrimaryModule', 'ApplicationId', 'SecondaryModule', 'PrimaryFunction', 'SecondaryFunction', 'ProcessType', 'SubMessageType', 'StackTrace', 'Ora', 'Server', 'StacktraceMethod', 'StacktraceLine', 'StacktraceClass', 'StacktraceNamespace', 'AttachmentUri', 'PatchLevel', 'BatchGroup', 'BatchJob', 'ServiceType']\n",
      "(64824, 48)\n",
      "(64824, 27)\n"
     ]
    }
   ],
   "source": [
    "df_1 = df.copy()\n",
    "\n",
    "\n",
    "\"\"\"\n",
    "Returns list of column names above x percent missing values which can then be removed\n",
    "\"\"\"\n",
    "def get_NA_cols(dataframe):\n",
    "\n",
    "    percent = (dataframe.isnull().sum() / dataframe.isnull().count()).sort_values() * 100\n",
    "    percent = percent[percent > 30]\n",
    "\n",
    "    ls = list(percent.index)\n",
    "    ls.remove('RootCause')\n",
    "    return ls\n",
    "\n",
    "columns = get_NA_cols(df_1)\n",
    "print(columns) \n",
    "\n",
    "df_1.drop(columns, axis = 1, inplace = True)\n",
    "                \n",
    "print(df.shape)\n",
    "print(df_1.shape)"
   ]
  },
  {
   "cell_type": "code",
   "execution_count": 315,
   "metadata": {},
   "outputs": [],
   "source": [
    "X = df_1.iloc[:, :-1]\n",
    "y = df_1.iloc[:, -1:]\n",
    "\n",
    "\n",
    "X_train, X_test, y_train, y_test = train_test_split(X, y, \n",
    "                                                    test_size=0.2, \n",
    "                                                    random_state=42, \n",
    "                                                    stratify=df_1[\"is_defect\"],\n",
    "                                                   )\n",
    "\n",
    "y_train_tr = y_train.to_numpy().ravel()\n",
    "y_test_tr = y_test.to_numpy().ravel()"
   ]
  },
  {
   "cell_type": "code",
   "execution_count": 316,
   "metadata": {},
   "outputs": [
    {
     "name": "stdout",
     "output_type": "stream",
     "text": [
      "['WorkspaceSize', 'ErrorNumber'] 2 numerical variables\n",
      "['Customer', 'Version', 'OSVersion', 'SessionStartTime', 'State', 'RootCause', 'UTCImported', 'ServicePack', 'ModuleList', 'UTCLogDate', 'User', 'CDataSection', 'ResponsibleTeam', 'OSUser', 'Source', 'Machine', 'ProgrammersMode', 'RCReference', 'RunningCitrix', 'InstallationType', 'Subject', 'BuildId', 'XmlUri', 'Track'] 24 categorical variables\n"
     ]
    }
   ],
   "source": [
    "def split_num_cat(train_x):\n",
    "    \n",
    "    # Get list of numerical variables\n",
    "    num_variables = train_x.select_dtypes(include='number').columns.tolist()\n",
    "    print(num_variables, len(num_variables), 'numerical variables')\n",
    "    \n",
    "    # Get list of categorical variables\n",
    "    cat_variables = train_x.select_dtypes(exclude='number').columns.tolist()\n",
    "    print(cat_variables, len(cat_variables), 'categorical variables')\n",
    "\n",
    "    return num_variables, cat_variables\n",
    "\n",
    "numeric_variables, categorical_variables = split_num_cat(X_train)"
   ]
  },
  {
   "cell_type": "code",
   "execution_count": 317,
   "metadata": {},
   "outputs": [
    {
     "data": {
      "text/plain": [
       "(51859, 362538)"
      ]
     },
     "execution_count": 317,
     "metadata": {},
     "output_type": "execute_result"
    }
   ],
   "source": [
    "num_pipeline_ord = Pipeline(\n",
    "    steps=[(\"imputer\", SimpleImputer(strategy=\"constant\", fill_value=0.0)), (\"scaler\", StandardScaler())\n",
    "          ]\n",
    ")\n",
    "\n",
    "\n",
    "cat_pipeline_ord = Pipeline(\n",
    "    steps=[('imputer', SimpleImputer(strategy='constant', fill_value=\"none\")), \n",
    "           ('labelencoder', OneHotEncoder(handle_unknown='ignore')),\n",
    "          ]\n",
    ")\n",
    "\n",
    "\n",
    "preprocessor_ord = ColumnTransformer(transformers=[\n",
    "    ('number', num_pipeline_ord, numeric_variables),\n",
    "    ('category', cat_pipeline_ord, categorical_variables)\n",
    "])\n",
    "\n",
    "\n",
    "X_train_trans_ord = preprocessor_ord.fit_transform(X_train)\n",
    "X_train_trans_ord.shape"
   ]
  },
  {
   "cell_type": "code",
   "execution_count": 8,
   "metadata": {},
   "outputs": [
    {
     "ename": "NameError",
     "evalue": "name 'fig' is not defined",
     "output_type": "error",
     "traceback": [
      "\u001b[0;31m---------------------------------------------------------------------------\u001b[0m",
      "\u001b[0;31mNameError\u001b[0m                                 Traceback (most recent call last)",
      "\u001b[1;32m/home/saim/abor_ml/abrrr.ipynb Cell 13'\u001b[0m in \u001b[0;36m<cell line: 11>\u001b[0;34m()\u001b[0m\n\u001b[1;32m      <a href='vscode-notebook-cell:/home/saim/abor_ml/abrrr.ipynb#ch0000037?line=6'>7</a>\u001b[0m plt\u001b[39m.\u001b[39mylabel(\u001b[39m\"\u001b[39m\u001b[39mExplained variance (\u001b[39m\u001b[39m%\u001b[39m\u001b[39m)\u001b[39m\u001b[39m\"\u001b[39m)\n\u001b[1;32m      <a href='vscode-notebook-cell:/home/saim/abor_ml/abrrr.ipynb#ch0000037?line=8'>9</a>\u001b[0m plt\u001b[39m.\u001b[39msavefig(\u001b[39m\"\u001b[39m\u001b[39m/home/saim/Desktop/svd.png\u001b[39m\u001b[39m\"\u001b[39m)\n\u001b[0;32m---> <a href='vscode-notebook-cell:/home/saim/abor_ml/abrrr.ipynb#ch0000037?line=10'>11</a>\u001b[0m fig\u001b[39m.\u001b[39mtight_layout()\n",
      "\u001b[0;31mNameError\u001b[0m: name 'fig' is not defined"
     ]
    },
    {
     "data": {
      "image/png": "[encoded data removed]",
      "text/plain": [
       "<Figure size 432x288 with 1 Axes>"
      ]
     },
     "metadata": {
      "needs_background": "light"
     },
     "output_type": "display_data"
    }
   ],
   "source": [
    "svd = TruncatedSVD(n_components=3000, n_iter=7, random_state=69)\n",
    "svd.fit(X_train_trans_ord)\n",
    "\n",
    "\n",
    "plt.plot(np.cumsum(svd.explained_variance_ratio_ * 100))\n",
    "plt.xlabel(\"Number of components\")\n",
    "plt.ylabel(\"Explained variance (%)\")\n",
    "\n",
    "plt.savefig(\"/home/saim/Desktop/svd.png\")\n",
    "\n",
    "fig.tight_layout()"
   ]
  },
  {
   "cell_type": "code",
   "execution_count": 318,
   "metadata": {},
   "outputs": [],
   "source": [
    "num_pipeline = Pipeline(\n",
    "    steps=[(\"imputer\", SimpleImputer(strategy=\"median\")), \n",
    "           (\"scaler\", StandardScaler())\n",
    "          ]\n",
    ")\n",
    "\n",
    "\n",
    "cat_pipeline = Pipeline(\n",
    "    steps=[('imputer', SimpleImputer(strategy='constant', fill_value=\"none\")), \n",
    "           ('labelencoder', OrdinalEncoder(handle_unknown='use_encoded_value', unknown_value=-1)),\n",
    "          ]\n",
    ")\n",
    "\n",
    "\n",
    "preprocessor = ColumnTransformer(transformers=[\n",
    "    ('number', num_pipeline, numeric_variables),\n",
    "    ('category', cat_pipeline, categorical_variables)\n",
    "])"
   ]
  },
  {
   "cell_type": "code",
   "execution_count": 9,
   "metadata": {},
   "outputs": [],
   "source": [
    "# array to df for pycaret\n",
    "#train_df = pd.DataFrame(X_train_trans, index=X_train.index, columns=X_train.columns)"
   ]
  },
  {
   "cell_type": "markdown",
   "metadata": {},
   "source": [
    "## Model Fitting"
   ]
  },
  {
   "cell_type": "code",
   "execution_count": 15,
   "metadata": {},
   "outputs": [
    {
     "name": "stderr",
     "output_type": "stream",
     "text": [
      "lbfgs failed to converge (status=1):\n",
      "STOP: TOTAL NO. of ITERATIONS REACHED LIMIT.\n",
      "\n",
      "Increase the number of iterations (max_iter) or scale the data as shown in:\n",
      "    https://scikit-learn.org/stable/modules/preprocessing.html\n",
      "Please also refer to the documentation for alternative solver options:\n",
      "    https://scikit-learn.org/stable/modules/linear_model.html#logistic-regression\n"
     ]
    },
    {
     "name": "stdout",
     "output_type": "stream",
     "text": [
      "[]\n",
      "LogisticRegression completed training\n",
      "[]\n",
      "Random_Forest completed training\n"
     ]
    }
   ],
   "source": [
    "models = {'LogisticRegression' : LogisticRegression(random_state=42),\n",
    "'Random_Forest' : RandomForestClassifier(),\n",
    "'KNN' : KNeighborsClassifier(),\n",
    "'SVM' : SVC(random_state=42),\n",
    "'Naive_Bayes' : GaussianNB(),\n",
    "'XGB' : xgb.XGBClassifier(random_state=42),\n",
    "'LGBM' : lgb.LGBMClassifier(random_state=42),\n",
    "'Decision_Tree' : DecisionTreeClassifier(random_state=42),\n",
    "'SGDClassifier' : SGDClassifier(random_state=42),\n",
    "'RidgeClassifierCV' : RidgeClassifierCV(),\n",
    "'RidgeClassifier' : RidgeClassifier(),\n",
    "'PassiveAggressiveClassifier' : PassiveAggressiveClassifier(random_state=42),\n",
    "'GaussianProcessClassifier' : GaussianProcessClassifier(random_state=42),\n",
    "'AdaBoost' : AdaBoostClassifier(random_state=42),\n",
    "'GradientBoostingClassifier' : GradientBoostingClassifier(random_state=42),\n",
    "'ExtraTreesClassifier' : ExtraTreesClassifier(random_state=42),\n",
    "'BernoulliNB' : BernoulliNB(),\n",
    "'LinearDiscriminantAnalysis' : LinearDiscriminantAnalysis(),\n",
    "'LinearSVC' : LinearSVC(random_state=42),\n",
    "'LogisticRegressionCV' : LogisticRegressionCV(random_state=42),\n",
    "'NearestCentroid' : NearestCentroid(),\n",
    "'Perceptron' : Perceptron(random_state=42),\n",
    "'QuadraticDiscriminantAnalysis' : QuadraticDiscriminantAnalysis()\n",
    "                                        \n",
    "                                        }\n",
    "\n",
    "test = {'LogisticRegression' : LogisticRegression(random_state=42),\n",
    "'Random_Forest' : RandomForestClassifier()}\n",
    "\n",
    "def omnimodel(model_dict, preprocessor):\n",
    "\n",
    "        scores_df = pd.DataFrame(columns=['Model', 'Precision', 'Recall', 'F1'])\n",
    "\n",
    "        for name, model in model_dict.items():\n",
    "                pipeline = Pipeline(steps=[\n",
    "                        ('preprocessor', preprocessor),\n",
    "                        ('classifier', model)])\n",
    "                \n",
    "                pipeline.fit(X_train, y_train_tr)\n",
    "\n",
    "                # Calculate eval metrics\n",
    "                precision_scores = precision_score(y_test, pipeline.predict(X_test))\n",
    "                recall_scores = recall_score(y_test, pipeline.predict(X_test))\n",
    "                f1_scores = f1_score(y_test, pipeline.predict(X_test))\n",
    "                \n",
    "                print(name, \"completed training\")\n",
    "\n",
    "\n",
    "                result_dict = {\n",
    "                                'Model': name, \n",
    "                                'Precision': precision_scores, \n",
    "                                'Recall': recall_scores, \n",
    "                                'F1': f1_scores\n",
    "                        }\n",
    "\n",
    "                df_dictionary = pd.DataFrame([result_dict])\n",
    "                scores_df = pd.concat([scores_df, df_dictionary], ignore_index=True)\n",
    "                \n",
    "        return scores_df\n",
    "\n",
    "baseline_df = omnimodel(test, preprocessor)"
   ]
  },
  {
   "cell_type": "code",
   "execution_count": 312,
   "metadata": {},
   "outputs": [],
   "source": [
    "\"\"\"Baseline\"\"\"\n",
    "def evalu(model, cv=True):\n",
    "\n",
    "    process = Pipeline(\n",
    "        steps=[(\"preprocessor\", preprocessor), (\"clf\",  model\n",
    "                )]\n",
    "    )\n",
    "\n",
    "    model_fitted = process.fit(X_train, y_train_tr)\n",
    "    y_pred = model_fitted.predict(X_test)\n",
    "\n",
    "    print(classification_report(y_test_tr, y_pred))\n",
    "    \n",
    "    if cv == True:\n",
    "        scores=cross_val_score(model_fitted, X_test, y_test_tr, cv=3, scoring='recall')\n",
    "        print(scores.mean())\n",
    "\n",
    "    return model_fitted, y_pred"
   ]
  },
  {
   "cell_type": "code",
   "execution_count": 108,
   "metadata": {},
   "outputs": [
    {
     "name": "stdout",
     "output_type": "stream",
     "text": [
      "              precision    recall  f1-score   support\n",
      "\n",
      "       False       0.97      0.97      0.97     12156\n",
      "        True       0.53      0.49      0.51       809\n",
      "\n",
      "    accuracy                           0.94     12965\n",
      "   macro avg       0.75      0.73      0.74     12965\n",
      "weighted avg       0.94      0.94      0.94     12965\n",
      "\n",
      "0.4869245949791179\n"
     ]
    }
   ],
   "source": [
    "baseline, baseline_pred = evalu(lgb.LGBMClassifier())"
   ]
  },
  {
   "cell_type": "code",
   "execution_count": 319,
   "metadata": {},
   "outputs": [
    {
     "name": "stdout",
     "output_type": "stream",
     "text": [
      "              precision    recall  f1-score   support\n",
      "\n",
      "       False       0.99      0.85      0.92     12156\n",
      "        True       0.29      0.92      0.44       809\n",
      "\n",
      "    accuracy                           0.86     12965\n",
      "   macro avg       0.64      0.89      0.68     12965\n",
      "weighted avg       0.95      0.86      0.89     12965\n",
      "\n",
      "0.699628252788104\n"
     ]
    }
   ],
   "source": [
    "class_balanced, class_balanced_pred = evalu(lgb.LGBMClassifier(class_weight='balanced'))"
   ]
  },
  {
   "cell_type": "code",
   "execution_count": 143,
   "metadata": {},
   "outputs": [
    {
     "name": "stdout",
     "output_type": "stream",
     "text": [
      "              precision    recall  f1-score   support\n",
      "\n",
      "       False       1.00      0.66      0.79     12156\n",
      "        True       0.16      0.97      0.27       809\n",
      "\n",
      "    accuracy                           0.68     12965\n",
      "   macro avg       0.58      0.82      0.53     12965\n",
      "weighted avg       0.94      0.68      0.76     12965\n",
      "\n",
      "0.4869245949791179\n"
     ]
    }
   ],
   "source": [
    "\"\"\"Undersampling\"\"\"\n",
    "\n",
    "def undersample_eval(model, cv=True):\n",
    "    \n",
    "    rus = RandomUnderSampler(random_state = 42)\n",
    "    X_res, y_res = rus.fit_resample(X_train, y_train_tr)\n",
    "\n",
    "    fitted_model = model.fit(X_res, y_res)\n",
    "    y_pred = model.predict(X_test)\n",
    "    \n",
    "    print(classification_report(y_test_tr, y_pred))\n",
    "\n",
    "    if cv == True:\n",
    "        scores=cross_val_score(model, X_test, y_test_tr, cv=3, scoring='recall')\n",
    "        print(scores.mean())\n",
    "\n",
    "    return fitted_model\n",
    "\n",
    "undersampled_model = undersample_eval(baseline)"
   ]
  },
  {
   "cell_type": "code",
   "execution_count": 141,
   "metadata": {},
   "outputs": [
    {
     "name": "stdout",
     "output_type": "stream",
     "text": [
      "              precision    recall  f1-score   support\n",
      "\n",
      "       False       0.99      0.87      0.93     12156\n",
      "        True       0.31      0.90      0.46       809\n",
      "\n",
      "    accuracy                           0.87     12965\n",
      "   macro avg       0.65      0.88      0.70     12965\n",
      "weighted avg       0.95      0.87      0.90     12965\n",
      "\n"
     ]
    }
   ],
   "source": [
    "def oversample_eval(model, cv=False):\n",
    "\n",
    "    ros = RandomOverSampler(random_state=42)\n",
    "    X_res, y_res = ros.fit_resample(X_train, y_train_tr)\n",
    "\n",
    "    fitted_model = model.fit(X_res, y_res)\n",
    "    y_pred = model.predict(X_test)\n",
    "\n",
    "    print(classification_report(y_test_tr, y_pred))\n",
    "\n",
    "    if cv == True:\n",
    "        scores=cross_val_score(model, X_test, y_test_tr, cv=3, scoring='recall')\n",
    "        print(scores.mean())\n",
    "\n",
    "    return fitted_model\n",
    "\n",
    "oversampled_model = oversample_eval(baseline)"
   ]
  },
  {
   "cell_type": "markdown",
   "metadata": {},
   "source": [
    "# Feature Selection"
   ]
  },
  {
   "cell_type": "code",
   "execution_count": 139,
   "metadata": {},
   "outputs": [
    {
     "name": "stdout",
     "output_type": "stream",
     "text": [
      "              precision    recall  f1-score   support\n",
      "\n",
      "       False       0.99      0.85      0.92     12156\n",
      "        True       0.29      0.92      0.44       809\n",
      "\n",
      "    accuracy                           0.86     12965\n",
      "   macro avg       0.64      0.89      0.68     12965\n",
      "weighted avg       0.95      0.86      0.89     12965\n",
      "\n"
     ]
    }
   ],
   "source": [
    "clf_rfecv = Pipeline(\n",
    "    steps=[(\"preprocessor\", preprocessor), (\"clf\",  RFECV(lgb.LGBMClassifier(class_weight='balanced'), cv=3))]\n",
    ")\n",
    "\n",
    "clf_rfecv.fit(X_train, y_train_tr)\n",
    "y_pred1 = clf_rfecv.predict(X_test)\n",
    "\n",
    "print(classification_report(y_test_tr, y_pred1))"
   ]
  },
  {
   "cell_type": "code",
   "execution_count": 153,
   "metadata": {},
   "outputs": [],
   "source": [
    "from sklearn.feature_selection import SequentialFeatureSelector\n",
    "\n",
    "# Preprocess your data\n",
    "X_seq = preprocessor.fit_transform(X_train)\n",
    "\n",
    "# Run the SequentialFeatureSelector\n",
    "sfs = SequentialFeatureSelector(estimator = lgb.LGBMClassifier(class_weight='balanced'),\n",
    "                           scoring= \"recall\",\n",
    "                           cv = 3).fit(X_seq, y_train_tr)\n",
    "\n",
    "# Check which features are important and transform X\n",
    "sfs.get_support()\n",
    "X_seq = sfs.transform(X)"
   ]
  },
  {
   "cell_type": "code",
   "execution_count": 163,
   "metadata": {},
   "outputs": [
    {
     "name": "stdout",
     "output_type": "stream",
     "text": [
      "Index(['Customer', 'Version', 'OSVersion', 'WorkspaceSize', 'SessionStartTime',\n",
      "       'State', 'RootCause', 'UTCImported', 'ServicePack', 'ModuleList',\n",
      "       'UTCLogDate', 'User', 'CDataSection', 'ResponsibleTeam', 'OSUser',\n",
      "       'Source', 'Machine', 'ProgrammersMode', 'RCReference', 'RunningCitrix',\n",
      "       'InstallationType', 'Subject', 'BuildId', 'XmlUri', 'ErrorNumber',\n",
      "       'Track'],\n",
      "      dtype='object')\n",
      "Index(['Customer', 'SessionStartTime', 'State', 'UTCImported', 'ServicePack',\n",
      "       'ModuleList', 'User', 'OSUser', 'Machine', 'RCReference',\n",
      "       'InstallationType', 'Subject', 'Track'],\n",
      "      dtype='object')\n"
     ]
    }
   ],
   "source": [
    "cols = sfs.get_support(indices=True)\n",
    "features_df_new = X_train.iloc[:,cols]\n",
    "\n",
    "print(X_train.columns)\n",
    "print(features_df_new.columns)"
   ]
  },
  {
   "cell_type": "code",
   "execution_count": 207,
   "metadata": {},
   "outputs": [],
   "source": [
    "df_sequ = df_1.copy()\n",
    "\n",
    "seq_col_ls = list(features_df_new.columns)\n",
    "seq_col_ls.append('is_defect')\n",
    "\n",
    "# Drop columns in df_seq OG if not in new df\n",
    "df_sequ.drop(columns=[col for col in df_sequ if col not in seq_col_ls], inplace=True)"
   ]
  },
  {
   "cell_type": "code",
   "execution_count": 208,
   "metadata": {},
   "outputs": [
    {
     "name": "stdout",
     "output_type": "stream",
     "text": [
      "Index(['Customer', 'SessionStartTime', 'State', 'UTCImported', 'ServicePack',\n",
      "       'ModuleList', 'User', 'OSUser', 'Machine', 'RCReference',\n",
      "       'InstallationType', 'Subject', 'Track'],\n",
      "      dtype='object')\n"
     ]
    },
    {
     "data": {
      "text/plain": [
       "Index(['Customer', 'SessionStartTime', 'State', 'UTCImported', 'ServicePack',\n",
       "       'ModuleList', 'User', 'OSUser', 'Machine', 'RCReference',\n",
       "       'InstallationType', 'Subject', 'Track', 'is_defect'],\n",
       "      dtype='object')"
      ]
     },
     "execution_count": 208,
     "metadata": {},
     "output_type": "execute_result"
    }
   ],
   "source": [
    "print(features_df_new.columns)\n",
    "df_sequ.columns"
   ]
  },
  {
   "cell_type": "code",
   "execution_count": 216,
   "metadata": {},
   "outputs": [],
   "source": [
    "X_seq = df_sequ.iloc[:, :-1]\n",
    "y_seq = df_sequ.iloc[:, -1:]\n",
    "\n",
    "\n",
    "X_train_seq, X_test_seq, y_train_seq, y_test_seq = train_test_split(X_seq, y_seq, \n",
    "                                                    test_size=0.2, \n",
    "                                                    random_state=42, \n",
    "                                                    stratify=y_seq['is_defect'],\n",
    "                                                   )\n",
    "\n",
    "y_train_seq_tr = y_train_seq.to_numpy().ravel()\n",
    "y_test_seq_tr = y_test_seq.to_numpy().ravel()"
   ]
  },
  {
   "cell_type": "code",
   "execution_count": 215,
   "metadata": {},
   "outputs": [
    {
     "name": "stdout",
     "output_type": "stream",
     "text": [
      "[] 0 numerical variables\n",
      "['Customer', 'SessionStartTime', 'State', 'UTCImported', 'ServicePack', 'ModuleList', 'User', 'OSUser', 'Machine', 'RCReference', 'InstallationType', 'Subject', 'Track'] 13 categorical variables\n"
     ]
    }
   ],
   "source": [
    "numeric_variables_seq, categorical_variables_seq = split_num_cat(X_train_seq)"
   ]
  },
  {
   "cell_type": "code",
   "execution_count": 218,
   "metadata": {},
   "outputs": [
    {
     "name": "stdout",
     "output_type": "stream",
     "text": [
      "              precision    recall  f1-score   support\n",
      "\n",
      "       False       0.97      0.81      0.88     12156\n",
      "        True       0.19      0.65      0.29       809\n",
      "\n",
      "    accuracy                           0.80     12965\n",
      "   macro avg       0.58      0.73      0.59     12965\n",
      "weighted avg       0.92      0.80      0.85     12965\n",
      "\n"
     ]
    }
   ],
   "source": [
    "preprocessor_seq = ColumnTransformer(transformers=[\n",
    "    ('number', num_pipeline, numeric_variables_seq),\n",
    "    ('category', cat_pipeline, categorical_variables_seq)\n",
    "])\n",
    "\n",
    "\n",
    "clf_seq = Pipeline(\n",
    "    steps=[(\"preprocessor\", preprocessor_seq), (\"clf\", lgb.LGBMClassifier(class_weight='balanced'))]\n",
    ")\n",
    "\n",
    "\n",
    "seq_fitted = clf_seq.fit(X_train_seq, y_train_seq_tr)\n",
    "y_pred_seq = seq_fitted.predict(X_test_seq)\n",
    "\n",
    "print(classification_report(y_test_seq_tr, y_pred_seq))"
   ]
  },
  {
   "cell_type": "markdown",
   "metadata": {},
   "source": [
    "## Backwards selection"
   ]
  },
  {
   "cell_type": "code",
   "execution_count": 220,
   "metadata": {},
   "outputs": [],
   "source": [
    "# Preprocess your data\n",
    "X_backwards = preprocessor.fit_transform(X_train)\n",
    "\n",
    "# Run the SequentialFeatureSelector\n",
    "sfs_back = SequentialFeatureSelector(estimator = lgb.LGBMClassifier(class_weight='balanced'), \n",
    "                                    direction = 'backward',\n",
    "                                    scoring= \"recall\",\n",
    "                                    cv = 3).fit(X_backwards, y_train_tr)\n",
    "\n",
    "# transform X\n",
    "X_backwards = sfs_back.transform(X)"
   ]
  },
  {
   "cell_type": "code",
   "execution_count": 223,
   "metadata": {},
   "outputs": [
    {
     "name": "stdout",
     "output_type": "stream",
     "text": [
      "Index(['Customer', 'Version', 'OSVersion', 'WorkspaceSize', 'SessionStartTime',\n",
      "       'State', 'RootCause', 'UTCImported', 'ServicePack', 'ModuleList',\n",
      "       'UTCLogDate', 'User', 'CDataSection', 'ResponsibleTeam', 'OSUser',\n",
      "       'Source', 'Machine', 'ProgrammersMode', 'RCReference', 'RunningCitrix',\n",
      "       'InstallationType', 'Subject', 'BuildId', 'XmlUri', 'ErrorNumber',\n",
      "       'Track'],\n",
      "      dtype='object')\n",
      "Index(['Customer', 'SessionStartTime', 'State', 'UTCImported', 'ServicePack',\n",
      "       'ModuleList', 'User', 'OSUser', 'Machine', 'RCReference',\n",
      "       'InstallationType', 'Subject', 'Track'],\n",
      "      dtype='object')\n",
      "Index(['Customer', 'Version', 'OSVersion', 'WorkspaceSize', 'State',\n",
      "       'UTCImported', 'User', 'OSUser', 'ProgrammersMode', 'RCReference',\n",
      "       'InstallationType', 'Subject', 'XmlUri'],\n",
      "      dtype='object')\n"
     ]
    }
   ],
   "source": [
    "cols_back = sfs_back.get_support(indices=True)\n",
    "features_df_back = X_train.iloc[:,cols_back]\n",
    "\n",
    "print(X_train.columns)\n",
    "print(features_df_new.columns)\n",
    "print(features_df_back.columns)"
   ]
  },
  {
   "cell_type": "code",
   "execution_count": 224,
   "metadata": {},
   "outputs": [],
   "source": [
    "df_back = df_1.copy()\n",
    "\n",
    "back_col_ls = list(features_df_back.columns)\n",
    "back_col_ls.append('is_defect')\n",
    "\n",
    "# Drop columns in df_seq OG if not in new df\n",
    "df_back.drop(columns=[col for col in df_back if col not in back_col_ls], inplace=True)"
   ]
  },
  {
   "cell_type": "code",
   "execution_count": 225,
   "metadata": {},
   "outputs": [],
   "source": [
    "X_back = df_back.iloc[:, :-1]\n",
    "y_back = df_back.iloc[:, -1:]\n",
    "\n",
    "\n",
    "X_train_back, X_test_back, y_train_back, y_test_back = train_test_split(X_back, y_back, \n",
    "                                                    test_size=0.2, \n",
    "                                                    random_state=42, \n",
    "                                                    stratify=y_back['is_defect'],\n",
    "                                                   )\n",
    "\n",
    "y_train_back_tr = y_train_back.to_numpy().ravel()\n",
    "y_test_back_tr = y_test_back.to_numpy().ravel()"
   ]
  },
  {
   "cell_type": "code",
   "execution_count": 226,
   "metadata": {},
   "outputs": [
    {
     "name": "stdout",
     "output_type": "stream",
     "text": [
      "['WorkspaceSize'] 1 numerical variables\n",
      "['Customer', 'Version', 'OSVersion', 'State', 'UTCImported', 'User', 'OSUser', 'ProgrammersMode', 'RCReference', 'InstallationType', 'Subject', 'XmlUri'] 12 categorical variables\n"
     ]
    }
   ],
   "source": [
    "numeric_variables_back, categorical_variables_back = split_num_cat(X_train_back)"
   ]
  },
  {
   "cell_type": "code",
   "execution_count": 227,
   "metadata": {},
   "outputs": [
    {
     "name": "stdout",
     "output_type": "stream",
     "text": [
      "              precision    recall  f1-score   support\n",
      "\n",
      "       False       0.97      0.80      0.88     12156\n",
      "        True       0.19      0.68      0.29       809\n",
      "\n",
      "    accuracy                           0.80     12965\n",
      "   macro avg       0.58      0.74      0.59     12965\n",
      "weighted avg       0.93      0.80      0.84     12965\n",
      "\n"
     ]
    }
   ],
   "source": [
    "preprocessor_back = ColumnTransformer(transformers=[\n",
    "    ('number', num_pipeline, numeric_variables_back),\n",
    "    ('category', cat_pipeline, categorical_variables_back)\n",
    "])\n",
    "\n",
    "\n",
    "clf_back = Pipeline(\n",
    "    steps=[(\"preprocessor\", preprocessor_back), (\"clf\", lgb.LGBMClassifier(class_weight='balanced'))]\n",
    ")\n",
    "\n",
    "\n",
    "back_fitted = clf_back.fit(X_train_back, y_train_back_tr)\n",
    "y_pred_back = back_fitted.predict(X_test_back)\n",
    "\n",
    "print(classification_report(y_test_back_tr, y_pred_back))"
   ]
  },
  {
   "cell_type": "markdown",
   "metadata": {},
   "source": [
    "## Calibration"
   ]
  },
  {
   "cell_type": "code",
   "execution_count": 325,
   "metadata": {},
   "outputs": [
    {
     "name": "stdout",
     "output_type": "stream",
     "text": [
      "['WorkspaceSize', 'ErrorNumber'] 2 numerical variables\n",
      "['Customer', 'Version', 'OSVersion', 'SessionStartTime', 'State', 'RootCause', 'UTCImported', 'ServicePack', 'ModuleList', 'UTCLogDate', 'User', 'CDataSection', 'ResponsibleTeam', 'OSUser', 'Source', 'Machine', 'ProgrammersMode', 'RCReference', 'RunningCitrix', 'InstallationType', 'Subject', 'BuildId', 'XmlUri', 'Track'] 24 categorical variables\n"
     ]
    }
   ],
   "source": [
    "X_train_cal, X_test_cal, y_train_cal, y_test_cal = train_test_split(X, y, \n",
    "                                                            test_size=0.15, \n",
    "                                                            random_state=42, \n",
    "                                                            stratify=y['is_defect']\n",
    "                                                            )\n",
    "\n",
    "\n",
    "\n",
    "numeric_variables_cali, categorical_variables_cali = split_num_cat(X_train_cal)"
   ]
  },
  {
   "cell_type": "code",
   "execution_count": 326,
   "metadata": {},
   "outputs": [
    {
     "data": {
      "text/plain": [
       "\" grid_params = {\\n                    'clf__learning_rate' : list(np.arange(0.1, 1.0, 0.1)),\\n                    'clf__max_depth': [i for i in range(14)],\\n                    'clf__n_estimators' : [i for i in range(50, 1000, 10)],\\n                    'clf__reg_alpha' : list(np.arange(0.0, 1.0, 0.1)), \\n                    'clf__reg_lambda' : list(np.arange(0.0, 1.0, 0.1)),\\n                    'clf__colsample_bytree' : list(np.arange(0.0, 1.0, 0.1)),\\n                    }\\n\\nclf_optimized = RandomizedSearchCV(clf, \\n                               param_distributions = grid_params, \\n                               random_state = 42, \\n                               cv = 3\\n                              ) \""
      ]
     },
     "execution_count": 326,
     "metadata": {},
     "output_type": "execute_result"
    }
   ],
   "source": [
    "preprocessor_cali = ColumnTransformer(transformers=[\n",
    "    ('number', num_pipeline, numeric_variables_cali),\n",
    "    ('category', cat_pipeline, categorical_variables_cali)\n",
    "])\n",
    "\n",
    "\n",
    "clf_iso = Pipeline(\n",
    "    steps=[(\"preprocessor\", preprocessor_cali), (\"clf\",  CalibratedClassifierCV(lgb.LGBMClassifier(class_weight='balanced'), \n",
    "                                                                                cv=5, \n",
    "                                                                                method='isotonic'\n",
    "                                                                                )\n",
    "                                                )\n",
    "        ])\n",
    "\n",
    "clf_sig = Pipeline(\n",
    "    steps=[(\"preprocessor\", preprocessor_cali), (\"clf\",  CalibratedClassifierCV(lgb.LGBMClassifier(class_weight='balanced'), \n",
    "                                                                                cv=5, \n",
    "                                                                                method='sigmoid'\n",
    "                                                                                )\n",
    "                                                )\n",
    "        ])\n",
    "\n",
    "\"\"\" grid_params = {\n",
    "                    'clf__learning_rate' : list(np.arange(0.1, 1.0, 0.1)),\n",
    "                    'clf__max_depth': [i for i in range(14)],\n",
    "                    'clf__n_estimators' : [i for i in range(50, 1000, 10)],\n",
    "                    'clf__reg_alpha' : list(np.arange(0.0, 1.0, 0.1)), \n",
    "                    'clf__reg_lambda' : list(np.arange(0.0, 1.0, 0.1)),\n",
    "                    'clf__colsample_bytree' : list(np.arange(0.0, 1.0, 0.1)),\n",
    "                    }\n",
    "\n",
    "clf_optimized = RandomizedSearchCV(clf, \n",
    "                               param_distributions = grid_params, \n",
    "                               random_state = 42, \n",
    "                               cv = 3\n",
    "                              ) \"\"\""
   ]
  },
  {
   "cell_type": "code",
   "execution_count": 327,
   "metadata": {},
   "outputs": [
    {
     "name": "stdout",
     "output_type": "stream",
     "text": [
      "              precision    recall  f1-score   support\n",
      "\n",
      "       False       0.95      0.99      0.97      9117\n",
      "        True       0.67      0.29      0.41       607\n",
      "\n",
      "    accuracy                           0.95      9724\n",
      "   macro avg       0.81      0.64      0.69      9724\n",
      "weighted avg       0.94      0.95      0.94      9724\n",
      "\n"
     ]
    }
   ],
   "source": [
    "clf_iso.fit(X_train_cal, y_train_cal.to_numpy().ravel())\n",
    "\n",
    "y_pred_iso = clf_iso.predict(X_test_cal)\n",
    "print(classification_report(y_test_cal.to_numpy().ravel(), y_pred_iso))"
   ]
  },
  {
   "cell_type": "code",
   "execution_count": 328,
   "metadata": {},
   "outputs": [
    {
     "name": "stdout",
     "output_type": "stream",
     "text": [
      "              precision    recall  f1-score   support\n",
      "\n",
      "       False       0.96      0.98      0.97      9117\n",
      "        True       0.61      0.40      0.48       607\n",
      "\n",
      "    accuracy                           0.95      9724\n",
      "   macro avg       0.78      0.69      0.73      9724\n",
      "weighted avg       0.94      0.95      0.94      9724\n",
      "\n"
     ]
    }
   ],
   "source": [
    "clf_sig.fit(X_train_cal, y_train_cal.to_numpy().ravel())\n",
    "\n",
    "y_pred_sig = clf_sig.predict(X_test_cal)\n",
    "print(classification_report(y_test_cal.to_numpy().ravel(), y_pred_sig))"
   ]
  },
  {
   "cell_type": "code",
   "execution_count": 260,
   "metadata": {},
   "outputs": [
    {
     "data": {
      "image/png": "[encoded data removed]",
      "text/plain": [
       "<Figure size 720x432 with 1 Axes>"
      ]
     },
     "metadata": {
      "needs_background": "light"
     },
     "output_type": "display_data"
    }
   ],
   "source": [
    "from sklearn.calibration import calibration_curve\n",
    "\n",
    "probabilities_non = class_balanced.predict_proba(X_test)[:, 1]\n",
    "probabilities_defect = class_balanced.predict_proba(X_test)[:, 0]\n",
    "\n",
    "fig, ax = plt.subplots(figsize=(10, 6))\n",
    "\n",
    "prob_true, prob_pred = calibration_curve(y_test, probabilities_non, n_bins=10)\n",
    "\n",
    "\n",
    "ax.plot([0, 1], [0, 1], 'k--', label='Perfect Calibration')\n",
    "ax.plot(prob_pred, prob_true, label='Uncalibrated Model', color=blue)\n",
    "\n",
    "ax.set(xlabel='Estimated Probability of Positive', ylabel='True Fraction of Positives')\n",
    "ax.legend(loc='upper left')\n",
    "plt.title('Reliability Curve')\n",
    "\n",
    "plt.savefig(\"/home/saim/Desktop/uncali.png\")"
   ]
  },
  {
   "cell_type": "code",
   "execution_count": 329,
   "metadata": {},
   "outputs": [
    {
     "name": "stdout",
     "output_type": "stream",
     "text": [
      "0.14446586964905514\n",
      "0.05296174413821473\n",
      "0.05368161250514192\n"
     ]
    }
   ],
   "source": [
    "from sklearn.metrics import brier_score_loss\n",
    "\n",
    "print(brier_score_loss(y_test, class_balanced_pred))\n",
    "print(brier_score_loss(y_test_cal, y_pred_iso))\n",
    "print(brier_score_loss(y_test_cal, y_pred_sig))"
   ]
  },
  {
   "cell_type": "code",
   "execution_count": 335,
   "metadata": {},
   "outputs": [],
   "source": [
    "iso_probabilities_non = clf_iso.predict_proba(X_test_cal)[:, 1]\n",
    "sig_probabilities_non = clf_sig.predict_proba(X_test_cal)[:, 1]"
   ]
  },
  {
   "cell_type": "code",
   "execution_count": 338,
   "metadata": {},
   "outputs": [
    {
     "data": {
      "image/png": "[encoded data removed]",
      "text/plain": [
       "<Figure size 720x432 with 1 Axes>"
      ]
     },
     "metadata": {
      "needs_background": "light"
     },
     "output_type": "display_data"
    }
   ],
   "source": [
    "fig, ax = plt.subplots(figsize=(10, 6))\n",
    "\n",
    "#prob_true, prob_pred = calibration_curve(y_test, probabilities_non, n_bins=10)\n",
    "prob_true_iso, prob_pred_iso = calibration_curve(y_test_cal, iso_probabilities_non, n_bins=10)\n",
    "prob_true_sig, prob_pred_sig = calibration_curve(y_test_cal, sig_probabilities_non, n_bins=10)\n",
    "\n",
    "\n",
    "\n",
    "ax.plot([0, 1], [0, 1], 'k--', label='Perfect Calibration')\n",
    "#ax.plot(prob_pred, prob_true, label='Uncalibrated Model', color=blue)\n",
    "ax.plot(prob_pred_iso, prob_true_iso, label='Calibrated - Isotonic', color=golden)\n",
    "ax.plot(prob_pred_sig, prob_true_sig, label='Calibrated - Sigmoid', color=green)\n",
    "\n",
    "\n",
    "ax.set(xlabel='Estimated Probability of Positive', ylabel='True Fraction of Positives')\n",
    "ax.legend(loc='upper left')\n",
    "plt.title('Reliability Curve')\n",
    "\n",
    "plt.savefig(\"/home/saim/Desktop/cali.png\")"
   ]
  },
  {
   "cell_type": "markdown",
   "metadata": {},
   "source": [
    "## Threshold"
   ]
  },
  {
   "cell_type": "code",
   "execution_count": 344,
   "metadata": {},
   "outputs": [
    {
     "name": "stdout",
     "output_type": "stream",
     "text": [
      "0.04               precision    recall  f1-score   support\n",
      "\n",
      "       False       1.00      0.82      0.90      9117\n",
      "        True       0.26      0.95      0.40       607\n",
      "\n",
      "    accuracy                           0.82      9724\n",
      "   macro avg       0.63      0.88      0.65      9724\n",
      "weighted avg       0.95      0.82      0.87      9724\n",
      "\n"
     ]
    }
   ],
   "source": [
    "def set_threshold(threshold, model):\n",
    "    \n",
    "        predicted_proba = model.predict_proba(X_test_cal)\n",
    "        thresh_pred = (predicted_proba [:,1] >= threshold).astype('int')\n",
    "        print(threshold, classification_report(y_test_cal, thresh_pred))\n",
    "\n",
    "        return thresh_pred\n",
    "\n",
    "t_pred_x = set_threshold(0.04, clf_sig)\n"
   ]
  },
  {
   "cell_type": "markdown",
   "metadata": {},
   "source": [
    "## Evaluation"
   ]
  },
  {
   "cell_type": "code",
   "execution_count": 350,
   "metadata": {},
   "outputs": [
    {
     "name": "stdout",
     "output_type": "stream",
     "text": [
      "AUC: 0.949\n"
     ]
    }
   ],
   "source": [
    "sig_probabilities = clf_sig.predict_proba(X_test_cal)\n",
    "    \n",
    "fpr, tpr, thresh = roc_curve(y_test_cal, sig_probabilities[:, 1])\n",
    "roc_auc = auc(fpr, tpr)\n",
    "print('AUC:', round(roc_auc, 3))"
   ]
  },
  {
   "cell_type": "code",
   "execution_count": 369,
   "metadata": {},
   "outputs": [
    {
     "data": {
      "image/png": "[encoded data removed]",
      "text/plain": [
       "<Figure size 720x432 with 1 Axes>"
      ]
     },
     "metadata": {
      "needs_background": "light"
     },
     "output_type": "display_data"
    }
   ],
   "source": [
    "fig, ax = plt.subplots(figsize=(10, 6))\n",
    "\n",
    "ax.plot(fpr, tpr, label = 'AUC for Light GBM = %0.2f' % roc_auc, color=blue)\n",
    "\n",
    "ax.plot([0, 1], [0, 1],'k--', label='Purely Random Classifier')\n",
    "\n",
    "\n",
    "\n",
    "ax.set(xlabel = \"False Positive Rate\", ylabel = \"True Positive Rate\")\n",
    "ax.legend(loc = 'lower right')\n",
    "    \n",
    "\n",
    "plt.title('ROC Curve')\n",
    "plt.savefig(\"/home/saim/Desktop/model_perf.png\")"
   ]
  },
  {
   "cell_type": "code",
   "execution_count": 368,
   "metadata": {},
   "outputs": [
    {
     "data": {
      "image/png": "[encoded data removed]",
      "text/plain": [
       "<Figure size 720x432 with 1 Axes>"
      ]
     },
     "metadata": {
      "needs_background": "light"
     },
     "output_type": "display_data"
    }
   ],
   "source": [
    "precision, recall, thresholds = precision_recall_curve(y_test_cal.to_numpy().ravel(), sig_probabilities_non)\n",
    "\n",
    "fig, ax = plt.subplots(figsize=(10, 6))\n",
    "\n",
    "\n",
    "ax.plot([0, 1], [0, 0],'k--', label='No Skill')\n",
    "ax.plot(recall, precision, label='Light GBM', color=blue)\n",
    "\n",
    "ax.set(xlabel = \"Recall\", ylabel = \"Precision\")\n",
    "ax.legend(loc = 'upper right')\n",
    "\n",
    "\n",
    "plt.title('PR Curve')\n",
    "plt.savefig(\"/home/saim/Desktop/PR.png\")"
   ]
  },
  {
   "cell_type": "code",
   "execution_count": 355,
   "metadata": {},
   "outputs": [
    {
     "data": {
      "image/png": "[encoded data removed]",
      "text/plain": [
       "<Figure size 432x288 with 2 Axes>"
      ]
     },
     "metadata": {
      "needs_background": "light"
     },
     "output_type": "display_data"
    }
   ],
   "source": [
    "plot_confusion_matrix(clf_sig, X_test_cal, y_test_cal, cmap=\"Blues\")\n",
    "\n",
    "plt.savefig(\"/home/saim/Desktop/conf.png\")\n",
    "plt.show()"
   ]
  }
 ],
 "metadata": {
  "interpreter": {
   "hash": "241556b8bd48dbb3b1a9dafe97f1f2b9cd5a31888a37fe39cc158d25f37fb596"
  },
  "kernelspec": {
   "display_name": "Python 3.8.10 ('venv': venv)",
   "language": "python",
   "name": "python3"
  },
  "language_info": {
   "codemirror_mode": {
    "name": "ipython",
    "version": 3
   },
   "file_extension": ".py",
   "mimetype": "text/x-python",
   "name": "python",
   "nbconvert_exporter": "python",
   "pygments_lexer": "ipython3",
   "version": "3.8.10"
  },
  "orig_nbformat": 4
 },
 "nbformat": 4,
 "nbformat_minor": 2
}
